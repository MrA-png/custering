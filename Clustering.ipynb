import pandas as pd
from sklearn.cluster import AgglomerativeClustering
import matplotlib.pyplot as plt

# 1. Memuat dataset transaction.csv
dataset = pd.read_csv('transaction.csv')
print("Dataset:\n", dataset.head())

# 2. Menghitung kemunculan tiap negara pada dataset
country_counts = dataset['Country'].value_counts()
print("\nKemunculan tiap negara:\n", country_counts)

# 3. Menghitung banyaknya transaksi pada tiap negara (1 kode InvoiceNo = 1 transaksi)
transactions_per_country = dataset.groupby('Country')['InvoiceNo'].nunique()
print("\nBanyaknya transaksi per negara:\n", transactions_per_country)

# 4. Clustering pada transaksi dengan Average Linkage, dengan k=3
data_for_clustering = transactions_per_country.values.reshape(-1, 1)
clustering = AgglomerativeClustering(n_clusters=3, linkage='average')
clusters = clustering.fit_predict(data_for_clustering)

# Menambahkan hasil clustering ke dalam dataframe untuk analisis lebih lanjut
clustered_data = pd.DataFrame({
    'Country': transactions_per_country.index,
    'Transactions': transactions_per_country.values,
    'Cluster': clusters
})
print("\nHasil clustering:\n", clustered_data)

# 5. Menentukan posisi centroid dari setiap cluster
centroids = clustered_data.groupby('Cluster')['Transactions'].mean()
print("\nPosisi centroid tiap cluster:\n", centroids)

# 6. Mengurutkan posisi centroid secara ascending
sorted_centroids = centroids.sort_values()
print("\nCentroid setelah diurutkan:\n", sorted_centroids)

# 7. Mengidentifikasi negara dengan level transaksi rendah, sedang, dan tinggi
low_transaction_cluster = sorted_centroids.index[0]
medium_transaction_cluster = sorted_centroids.index[1]
high_transaction_cluster = sorted_centroids.index[2]

low_transaction_countries = clustered_data[clustered_data['Cluster'] == low_transaction_cluster]['Country']
medium_transaction_countries = clustered_data[clustered_data['Cluster'] == medium_transaction_cluster]['Country']
high_transaction_countries = clustered_data[clustered_data['Cluster'] == high_transaction_cluster]['Country']

print("\nNegara dengan transaksi rendah:\n", low_transaction_countries.tolist())
print("\nNegara dengan transaksi sedang:\n", medium_transaction_countries.tolist())
print("\nNegara dengan transaksi tinggi:\n", high_transaction_countries.tolist())

# 8. Visualisasi hasil clustering
plt.figure(figsize=(10, 6))
colors = {low_transaction_cluster: 'blue', medium_transaction_cluster: 'orange', high_transaction_cluster: 'green'}
plt.scatter(
    clustered_data['Country'], clustered_data['Transactions'],
    c=clustered_data['Cluster'].map(colors), label=clustered_data['Country']
)
plt.xlabel('Country')
plt.ylabel('Jumlah Transaksi')
plt.title('Clustering Transaksi per Negara')
plt.xticks(rotation=90)
plt.legend(title="Cluster")
plt.show()
